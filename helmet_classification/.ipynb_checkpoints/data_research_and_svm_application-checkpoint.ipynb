{
 "cells": [
  {
   "cell_type": "code",
   "execution_count": 27,
   "metadata": {},
   "outputs": [],
   "source": [
    "import pandas as pd\n",
    "import numpy as np\n",
    "from sklearn.svm import SVC\n",
    "import cv2\n",
    "from numpy import genfromtxt\n",
    "from sklearn.model_selection import train_test_split\n",
    "from sklearn.metrics import classification_report"
   ]
  },
  {
   "cell_type": "markdown",
   "metadata": {},
   "source": [
    "# Loading first set of dataframe"
   ]
  },
  {
   "cell_type": "code",
   "execution_count": 119,
   "metadata": {},
   "outputs": [],
   "source": [
    "x = genfromtxt('../data/hog.csv', delimiter=',')[:,1:]\n",
    "y = pd.read_csv(\"../data/label.csv\", names=['id','non_helmet'])[['non_helmet']]"
   ]
  },
  {
   "cell_type": "code",
   "execution_count": 120,
   "metadata": {
    "scrolled": true
   },
   "outputs": [],
   "source": [
    "y['non_helmet']=y.non_helmet.map(lambda x:1 if x == 'helmet' else 0)"
   ]
  },
  {
   "cell_type": "code",
   "execution_count": 121,
   "metadata": {},
   "outputs": [
    {
     "data": {
      "text/html": [
       "<div>\n",
       "<style scoped>\n",
       "    .dataframe tbody tr th:only-of-type {\n",
       "        vertical-align: middle;\n",
       "    }\n",
       "\n",
       "    .dataframe tbody tr th {\n",
       "        vertical-align: top;\n",
       "    }\n",
       "\n",
       "    .dataframe thead th {\n",
       "        text-align: right;\n",
       "    }\n",
       "</style>\n",
       "<table border=\"1\" class=\"dataframe\">\n",
       "  <thead>\n",
       "    <tr style=\"text-align: right;\">\n",
       "      <th></th>\n",
       "      <th>non_helmet</th>\n",
       "    </tr>\n",
       "  </thead>\n",
       "  <tbody>\n",
       "    <tr>\n",
       "      <th>0</th>\n",
       "      <td>0</td>\n",
       "    </tr>\n",
       "    <tr>\n",
       "      <th>1</th>\n",
       "      <td>0</td>\n",
       "    </tr>\n",
       "    <tr>\n",
       "      <th>2</th>\n",
       "      <td>0</td>\n",
       "    </tr>\n",
       "    <tr>\n",
       "      <th>3</th>\n",
       "      <td>0</td>\n",
       "    </tr>\n",
       "    <tr>\n",
       "      <th>4</th>\n",
       "      <td>0</td>\n",
       "    </tr>\n",
       "    <tr>\n",
       "      <th>...</th>\n",
       "      <td>...</td>\n",
       "    </tr>\n",
       "    <tr>\n",
       "      <th>29120</th>\n",
       "      <td>1</td>\n",
       "    </tr>\n",
       "    <tr>\n",
       "      <th>29121</th>\n",
       "      <td>1</td>\n",
       "    </tr>\n",
       "    <tr>\n",
       "      <th>29122</th>\n",
       "      <td>1</td>\n",
       "    </tr>\n",
       "    <tr>\n",
       "      <th>29123</th>\n",
       "      <td>1</td>\n",
       "    </tr>\n",
       "    <tr>\n",
       "      <th>29124</th>\n",
       "      <td>1</td>\n",
       "    </tr>\n",
       "  </tbody>\n",
       "</table>\n",
       "<p>29125 rows × 1 columns</p>\n",
       "</div>"
      ],
      "text/plain": [
       "       non_helmet\n",
       "0               0\n",
       "1               0\n",
       "2               0\n",
       "3               0\n",
       "4               0\n",
       "...           ...\n",
       "29120           1\n",
       "29121           1\n",
       "29122           1\n",
       "29123           1\n",
       "29124           1\n",
       "\n",
       "[29125 rows x 1 columns]"
      ]
     },
     "execution_count": 121,
     "metadata": {},
     "output_type": "execute_result"
    }
   ],
   "source": [
    "y"
   ]
  },
  {
   "cell_type": "code",
   "execution_count": 122,
   "metadata": {},
   "outputs": [],
   "source": [
    "n = np.append(x, y, axis = 1)\n",
    "n = np.unique(n*1000, axis=0)/1000"
   ]
  },
  {
   "cell_type": "code",
   "execution_count": 123,
   "metadata": {},
   "outputs": [
    {
     "data": {
      "text/plain": [
       "array([[0.        , 0.        , 0.        , ..., 0.2697897 , 0.26690334,\n",
       "        0.        ],\n",
       "       [0.        , 0.        , 0.        , ..., 0.13782546, 0.11152794,\n",
       "        1.        ],\n",
       "       [0.        , 0.        , 0.        , ..., 0.03489072, 0.35036   ,\n",
       "        1.        ],\n",
       "       ...,\n",
       "       [0.46200427, 0.01541177, 0.00761054, ..., 0.020271  , 0.13539703,\n",
       "        1.        ],\n",
       "       [0.47009906, 0.161956  , 0.08517306, ..., 0.10214558, 0.374855  ,\n",
       "        1.        ],\n",
       "       [0.47500736, 0.11118197, 0.03049811, ..., 0.15865491, 0.11624321,\n",
       "        1.        ]])"
      ]
     },
     "execution_count": 123,
     "metadata": {},
     "output_type": "execute_result"
    }
   ],
   "source": [
    "n"
   ]
  },
  {
   "cell_type": "markdown",
   "metadata": {},
   "source": [
    "# Loading second set of dataframes"
   ]
  },
  {
   "cell_type": "code",
   "execution_count": 124,
   "metadata": {},
   "outputs": [],
   "source": [
    "x = genfromtxt('../data/hog_2.csv', delimiter=',')[:,1:]\n",
    "y = pd.read_csv(\"../data/label_2.csv\", names=['id','non_helmet'])[['non_helmet']]"
   ]
  },
  {
   "cell_type": "code",
   "execution_count": 125,
   "metadata": {},
   "outputs": [],
   "source": [
    "y['non_helmet']=y.non_helmet.map(lambda x:1 if x == 'helmet' else 0)"
   ]
  },
  {
   "cell_type": "code",
   "execution_count": 126,
   "metadata": {},
   "outputs": [],
   "source": [
    "n1 = np.append(x, y, axis = 1)\n",
    "n1 = np.unique(n1*1000, axis=0)/1000"
   ]
  },
  {
   "cell_type": "code",
   "execution_count": 127,
   "metadata": {},
   "outputs": [],
   "source": [
    "n = np.append(n,n1,axis=0)"
   ]
  },
  {
   "cell_type": "code",
   "execution_count": 128,
   "metadata": {},
   "outputs": [
    {
     "data": {
      "text/plain": [
       "1.0    1224\n",
       "0.0     734\n",
       "dtype: int64"
      ]
     },
     "execution_count": 128,
     "metadata": {},
     "output_type": "execute_result"
    }
   ],
   "source": [
    "n = np.unique(n,axis=0) \n",
    "pd.Series(n[:,-1]).value_counts()"
   ]
  },
  {
   "cell_type": "code",
   "execution_count": 129,
   "metadata": {},
   "outputs": [
    {
     "data": {
      "text/plain": [
       "array([[0.0000000e+00, 0.0000000e+00, 0.0000000e+00, ..., 3.2261476e-02,\n",
       "        2.5491458e-01, 0.0000000e+00],\n",
       "       [0.0000000e+00, 0.0000000e+00, 0.0000000e+00, ..., 0.0000000e+00,\n",
       "        0.0000000e+00, 0.0000000e+00],\n",
       "       [0.0000000e+00, 0.0000000e+00, 0.0000000e+00, ..., 6.8351277e-03,\n",
       "        8.6880280e-04, 0.0000000e+00],\n",
       "       ...,\n",
       "       [4.7500736e-01, 1.1118197e-01, 3.0498110e-02, ..., 1.5865491e-01,\n",
       "        1.1624321e-01, 1.0000000e+00],\n",
       "       [4.8351760e-01, 1.6326050e-01, 1.7378226e-01, ..., 3.7027678e-01,\n",
       "        8.0871580e-02, 0.0000000e+00],\n",
       "       [5.0780195e-01, 1.0185144e-02, 3.0477721e-02, ..., 5.0180927e-03,\n",
       "        2.4104919e-01, 0.0000000e+00]])"
      ]
     },
     "execution_count": 129,
     "metadata": {},
     "output_type": "execute_result"
    }
   ],
   "source": [
    "n"
   ]
  },
  {
   "cell_type": "markdown",
   "metadata": {},
   "source": [
    "# Loading third set of dataframe"
   ]
  },
  {
   "cell_type": "code",
   "execution_count": 130,
   "metadata": {},
   "outputs": [],
   "source": [
    "x = genfromtxt('../data/hog_3.csv', delimiter=',')[:,1:]\n",
    "y = pd.read_csv(\"../data/label_3.csv\", names=['id','non_helmet'])[['non_helmet']]"
   ]
  },
  {
   "cell_type": "code",
   "execution_count": 131,
   "metadata": {},
   "outputs": [],
   "source": [
    "y['non_helmet']=y.non_helmet.map(lambda x:1 if x == 'helmet' else 0)"
   ]
  },
  {
   "cell_type": "code",
   "execution_count": 132,
   "metadata": {},
   "outputs": [],
   "source": [
    "n2 = np.append(x, y, axis = 1)\n",
    "n2 = np.unique(n2*1000, axis=0)/1000"
   ]
  },
  {
   "cell_type": "code",
   "execution_count": 133,
   "metadata": {},
   "outputs": [],
   "source": [
    "n = np.append(n,n2,axis=0)"
   ]
  },
  {
   "cell_type": "code",
   "execution_count": 134,
   "metadata": {},
   "outputs": [
    {
     "data": {
      "text/plain": [
       "1.0    1224\n",
       "0.0    1047\n",
       "dtype: int64"
      ]
     },
     "execution_count": 134,
     "metadata": {},
     "output_type": "execute_result"
    }
   ],
   "source": [
    "n = np.unique(n,axis=0) \n",
    "pd.Series(n[:,-1]).value_counts()"
   ]
  },
  {
   "cell_type": "markdown",
   "metadata": {},
   "source": [
    "# Reading from output cap"
   ]
  },
  {
   "cell_type": "code",
   "execution_count": 143,
   "metadata": {},
   "outputs": [],
   "source": [
    "x = genfromtxt('../data/output_cap_csv/hog.csv', delimiter=',')[:,1:]\n",
    "y = pd.read_csv(\"../data/output_cap_csv/label.csv\", names=['id','non_helmet'])[['non_helmet']]"
   ]
  },
  {
   "cell_type": "code",
   "execution_count": 144,
   "metadata": {},
   "outputs": [],
   "source": [
    "y['non_helmet']=y.non_helmet.map(lambda x:1 if x == 'helmet' else 0)"
   ]
  },
  {
   "cell_type": "code",
   "execution_count": 145,
   "metadata": {},
   "outputs": [],
   "source": [
    "n3 = np.append(x, y, axis = 1)\n",
    "n3 = np.unique(n3*1000, axis=0)/1000"
   ]
  },
  {
   "cell_type": "code",
   "execution_count": 146,
   "metadata": {},
   "outputs": [],
   "source": [
    "n = np.append(n,n3,axis=0)"
   ]
  },
  {
   "cell_type": "code",
   "execution_count": 147,
   "metadata": {},
   "outputs": [
    {
     "data": {
      "text/plain": [
       "0.0    1231\n",
       "1.0    1224\n",
       "dtype: int64"
      ]
     },
     "execution_count": 147,
     "metadata": {},
     "output_type": "execute_result"
    }
   ],
   "source": [
    "n = np.unique(n,axis=0) \n",
    "pd.Series(n[:,-1]).value_counts()"
   ]
  },
  {
   "cell_type": "markdown",
   "metadata": {},
   "source": [
    "# Reading from output bald"
   ]
  },
  {
   "cell_type": "code",
   "execution_count": 148,
   "metadata": {},
   "outputs": [],
   "source": [
    "x = genfromtxt('../data/output_bald/hog.csv', delimiter=',')[:,1:]\n",
    "y = pd.read_csv(\"../data/output_bald/label.csv\", names=['id','non_helmet'])[['non_helmet']]"
   ]
  },
  {
   "cell_type": "code",
   "execution_count": 149,
   "metadata": {},
   "outputs": [],
   "source": [
    "y['non_helmet']=y.non_helmet.map(lambda x:1 if x == 'helmet' else 0)"
   ]
  },
  {
   "cell_type": "code",
   "execution_count": 150,
   "metadata": {},
   "outputs": [],
   "source": [
    "n4 = np.append(x, y, axis = 1)\n",
    "n4 = np.unique(n4*1000, axis=0)/1000"
   ]
  },
  {
   "cell_type": "code",
   "execution_count": 151,
   "metadata": {},
   "outputs": [],
   "source": [
    "n = np.append(n,n4,axis=0)"
   ]
  },
  {
   "cell_type": "code",
   "execution_count": 152,
   "metadata": {},
   "outputs": [
    {
     "data": {
      "text/plain": [
       "0.0    1391\n",
       "1.0    1224\n",
       "dtype: int64"
      ]
     },
     "execution_count": 152,
     "metadata": {},
     "output_type": "execute_result"
    }
   ],
   "source": [
    "n = np.unique(n,axis=0) \n",
    "pd.Series(n[:,-1]).value_counts()"
   ]
  },
  {
   "cell_type": "markdown",
   "metadata": {},
   "source": [
    "# Reading from burkha out"
   ]
  },
  {
   "cell_type": "code",
   "execution_count": 153,
   "metadata": {},
   "outputs": [],
   "source": [
    "x = genfromtxt('../data/burkha_out/hog.csv', delimiter=',')[:,1:]\n",
    "y = pd.read_csv(\"../data/burkha_out/label.csv\", names=['id','non_helmet'])[['non_helmet']]"
   ]
  },
  {
   "cell_type": "code",
   "execution_count": 154,
   "metadata": {},
   "outputs": [],
   "source": [
    "y['non_helmet']=y.non_helmet.map(lambda x:1 if x == 'helmet' else 0)"
   ]
  },
  {
   "cell_type": "code",
   "execution_count": 155,
   "metadata": {},
   "outputs": [],
   "source": [
    "n5 = np.append(x, y, axis = 1)\n",
    "n5 = np.unique(n5*1000, axis=0)/1000"
   ]
  },
  {
   "cell_type": "code",
   "execution_count": 156,
   "metadata": {},
   "outputs": [],
   "source": [
    "n = np.append(n,n5,axis=0)"
   ]
  },
  {
   "cell_type": "code",
   "execution_count": 157,
   "metadata": {},
   "outputs": [
    {
     "data": {
      "text/plain": [
       "0.0    1500\n",
       "1.0    1224\n",
       "dtype: int64"
      ]
     },
     "execution_count": 157,
     "metadata": {},
     "output_type": "execute_result"
    }
   ],
   "source": [
    "n = np.unique(n,axis=0) \n",
    "pd.Series(n[:,-1]).value_counts()"
   ]
  },
  {
   "cell_type": "markdown",
   "metadata": {},
   "source": [
    "# Delete extra"
   ]
  },
  {
   "cell_type": "code",
   "execution_count": null,
   "metadata": {},
   "outputs": [],
   "source": [
    "del n1,n2,n3,n4,n5,x,y"
   ]
  },
  {
   "cell_type": "markdown",
   "metadata": {},
   "source": [
    "# PCA"
   ]
  },
  {
   "cell_type": "code",
   "execution_count": 185,
   "metadata": {},
   "outputs": [],
   "source": [
    "from sklearn.preprocessing import StandardScaler\n",
    "x = StandardScaler().fit_transform(n[:,:-1])\n",
    "y = n[:,-1]"
   ]
  },
  {
   "cell_type": "code",
   "execution_count": 186,
   "metadata": {},
   "outputs": [],
   "source": [
    "from sklearn.decomposition import PCA\n",
    "pca = PCA(n_components=2)\n",
    "principalComponents = pca.fit_transform(x)\n",
    "principalDf = pd.DataFrame(data = principalComponents\n",
    "             , columns = ['principal component 1', 'principal component 2'])"
   ]
  },
  {
   "cell_type": "code",
   "execution_count": 191,
   "metadata": {
    "scrolled": true
   },
   "outputs": [],
   "source": [
    "finalDf = pd.concat([principalDf, pd.Series(y,name='target')], axis = 1)"
   ]
  },
  {
   "cell_type": "code",
   "execution_count": 192,
   "metadata": {},
   "outputs": [
    {
     "data": {
      "text/html": [
       "<div>\n",
       "<style scoped>\n",
       "    .dataframe tbody tr th:only-of-type {\n",
       "        vertical-align: middle;\n",
       "    }\n",
       "\n",
       "    .dataframe tbody tr th {\n",
       "        vertical-align: top;\n",
       "    }\n",
       "\n",
       "    .dataframe thead th {\n",
       "        text-align: right;\n",
       "    }\n",
       "</style>\n",
       "<table border=\"1\" class=\"dataframe\">\n",
       "  <thead>\n",
       "    <tr style=\"text-align: right;\">\n",
       "      <th></th>\n",
       "      <th>principal component 1</th>\n",
       "      <th>principal component 2</th>\n",
       "      <th>target</th>\n",
       "    </tr>\n",
       "  </thead>\n",
       "  <tbody>\n",
       "    <tr>\n",
       "      <th>0</th>\n",
       "      <td>-20.389499</td>\n",
       "      <td>-1.500663</td>\n",
       "      <td>0.0</td>\n",
       "    </tr>\n",
       "    <tr>\n",
       "      <th>1</th>\n",
       "      <td>-18.422401</td>\n",
       "      <td>7.423761</td>\n",
       "      <td>0.0</td>\n",
       "    </tr>\n",
       "    <tr>\n",
       "      <th>2</th>\n",
       "      <td>-33.476579</td>\n",
       "      <td>12.351867</td>\n",
       "      <td>0.0</td>\n",
       "    </tr>\n",
       "    <tr>\n",
       "      <th>3</th>\n",
       "      <td>-21.923481</td>\n",
       "      <td>17.698397</td>\n",
       "      <td>0.0</td>\n",
       "    </tr>\n",
       "    <tr>\n",
       "      <th>4</th>\n",
       "      <td>-32.723447</td>\n",
       "      <td>19.263512</td>\n",
       "      <td>0.0</td>\n",
       "    </tr>\n",
       "    <tr>\n",
       "      <th>...</th>\n",
       "      <td>...</td>\n",
       "      <td>...</td>\n",
       "      <td>...</td>\n",
       "    </tr>\n",
       "    <tr>\n",
       "      <th>2719</th>\n",
       "      <td>-21.883094</td>\n",
       "      <td>25.896385</td>\n",
       "      <td>0.0</td>\n",
       "    </tr>\n",
       "    <tr>\n",
       "      <th>2720</th>\n",
       "      <td>-38.960639</td>\n",
       "      <td>1.103079</td>\n",
       "      <td>0.0</td>\n",
       "    </tr>\n",
       "    <tr>\n",
       "      <th>2721</th>\n",
       "      <td>-17.892737</td>\n",
       "      <td>2.685045</td>\n",
       "      <td>0.0</td>\n",
       "    </tr>\n",
       "    <tr>\n",
       "      <th>2722</th>\n",
       "      <td>-19.166153</td>\n",
       "      <td>11.379194</td>\n",
       "      <td>0.0</td>\n",
       "    </tr>\n",
       "    <tr>\n",
       "      <th>2723</th>\n",
       "      <td>-25.102319</td>\n",
       "      <td>1.316951</td>\n",
       "      <td>0.0</td>\n",
       "    </tr>\n",
       "  </tbody>\n",
       "</table>\n",
       "<p>2724 rows × 3 columns</p>\n",
       "</div>"
      ],
      "text/plain": [
       "      principal component 1  principal component 2  target\n",
       "0                -20.389499              -1.500663     0.0\n",
       "1                -18.422401               7.423761     0.0\n",
       "2                -33.476579              12.351867     0.0\n",
       "3                -21.923481              17.698397     0.0\n",
       "4                -32.723447              19.263512     0.0\n",
       "...                     ...                    ...     ...\n",
       "2719             -21.883094              25.896385     0.0\n",
       "2720             -38.960639               1.103079     0.0\n",
       "2721             -17.892737               2.685045     0.0\n",
       "2722             -19.166153              11.379194     0.0\n",
       "2723             -25.102319               1.316951     0.0\n",
       "\n",
       "[2724 rows x 3 columns]"
      ]
     },
     "execution_count": 192,
     "metadata": {},
     "output_type": "execute_result"
    }
   ],
   "source": [
    "finalDf"
   ]
  },
  {
   "cell_type": "code",
   "execution_count": 195,
   "metadata": {},
   "outputs": [
    {
     "data": {
      "image/png": "[encoded data removed]",
      "text/plain": [
       "<Figure size 576x576 with 1 Axes>"
      ]
     },
     "metadata": {
      "needs_background": "light"
     },
     "output_type": "display_data"
    }
   ],
   "source": [
    "from matplotlib import pyplot as plt\n",
    "%matplotlib inline\n",
    "fig = plt.figure(figsize = (8,8))\n",
    "ax = fig.add_subplot(1,1,1) \n",
    "ax.set_xlabel('Principal Component 1', fontsize = 15)\n",
    "ax.set_ylabel('Principal Component 2', fontsize = 15)\n",
    "ax.set_title('2 component PCA', fontsize = 20)\n",
    "targets = [0, 1]\n",
    "colors = ['r', 'g', 'b']\n",
    "for target, color in zip(targets,colors):\n",
    "    indicesToKeep = finalDf['target'] == target\n",
    "    ax.scatter(finalDf.loc[indicesToKeep, 'principal component 1']\n",
    "               , finalDf.loc[indicesToKeep, 'principal component 2']\n",
    "               , c = color\n",
    "               , s = 1)\n",
    "ax.legend(targets)\n",
    "ax.grid()"
   ]
  },
  {
   "cell_type": "markdown",
   "metadata": {},
   "source": [
    "# Prediction"
   ]
  },
  {
   "cell_type": "code",
   "execution_count": 158,
   "metadata": {
    "scrolled": true
   },
   "outputs": [],
   "source": [
    "X_train, X_test, y_train, y_test = train_test_split(n[:,:-1], n[:,-1], test_size=0.33, random_state=42)"
   ]
  },
  {
   "cell_type": "code",
   "execution_count": 159,
   "metadata": {},
   "outputs": [],
   "source": [
    "model = SVC()\n",
    "a = model.fit(X_train,y_train)"
   ]
  },
  {
   "cell_type": "code",
   "execution_count": 160,
   "metadata": {},
   "outputs": [
    {
     "name": "stdout",
     "output_type": "stream",
     "text": [
      "              precision    recall  f1-score   support\n",
      "\n",
      "         0.0       0.82      0.88      0.85       489\n",
      "         1.0       0.84      0.78      0.81       410\n",
      "\n",
      "    accuracy                           0.83       899\n",
      "   macro avg       0.83      0.83      0.83       899\n",
      "weighted avg       0.83      0.83      0.83       899\n",
      "\n"
     ]
    }
   ],
   "source": [
    "print(classification_report(y_test,a.predict(X_test)))"
   ]
  },
  {
   "cell_type": "markdown",
   "metadata": {},
   "source": [
    "# Test on one image"
   ]
  },
  {
   "cell_type": "code",
   "execution_count": 179,
   "metadata": {},
   "outputs": [
    {
     "name": "stdout",
     "output_type": "stream",
     "text": [
      "[0.]\n"
     ]
    }
   ],
   "source": [
    "img = cv2.imread('/Users/betterhalf/Desktop/projects/motorcyle_helmet_detection/helmet_classification/helmet2.jpg')\n",
    "img = cv2.resize(img,(64,128))\n",
    "img = cv2.cvtColor(img, cv2.COLOR_RGB2GRAY)\n",
    "d = cv2.HOGDescriptor()\n",
    "hog = d.compute(img)\n",
    "transpose_hog= hog.transpose()\n",
    "print(a.predict(transpose_hog))"
   ]
  },
  {
   "cell_type": "markdown",
   "metadata": {},
   "source": [
    "# cropping images from annotated csv"
   ]
  },
  {
   "cell_type": "code",
   "execution_count": 95,
   "metadata": {},
   "outputs": [],
   "source": [
    "op_path = \"/Users/betterhalf/Desktop/projects/motorcyle_helmet_detection/data/downloaded_from_google/non_helmet/burkha_output\"\n",
    "images_path = \"/Users/betterhalf/Desktop/projects/motorcyle_helmet_detection/data/downloaded_from_google/non_helmet/burkha\"\n",
    "csv_path = \"/Users/betterhalf/Desktop/projects/motorcyle_helmet_detection/data/downloaded_from_google/via_export_csv_bukha.csv\""
   ]
  },
  {
   "cell_type": "code",
   "execution_count": 96,
   "metadata": {},
   "outputs": [],
   "source": [
    "all_boxes = pd.read_csv(csv_path)"
   ]
  },
  {
   "cell_type": "code",
   "execution_count": 97,
   "metadata": {
    "scrolled": true
   },
   "outputs": [],
   "source": [
    "import os  \n",
    "ct = 0 \n",
    "for row in all_boxes.iterrows():\n",
    "    row = row[1]\n",
    "    img = cv2.imread(os.path.join(images_path,row.filename))\n",
    "    att = eval(row.region_shape_attributes)\n",
    "    y = att['y']\n",
    "    x = att['x']\n",
    "    h = att['height']\n",
    "    w = att['width']\n",
    "    n_img = img[y:y+h, x:x+w]\n",
    "    cv2.imwrite(os.path.join(op_path,str(ct)+str(row.filename)),n_img)\n",
    "    ct+=1"
   ]
  },
  {
   "cell_type": "code",
   "execution_count": 58,
   "metadata": {},
   "outputs": [
    {
     "data": {
      "text/html": [
       "<div>\n",
       "<style scoped>\n",
       "    .dataframe tbody tr th:only-of-type {\n",
       "        vertical-align: middle;\n",
       "    }\n",
       "\n",
       "    .dataframe tbody tr th {\n",
       "        vertical-align: top;\n",
       "    }\n",
       "\n",
       "    .dataframe thead th {\n",
       "        text-align: right;\n",
       "    }\n",
       "</style>\n",
       "<table border=\"1\" class=\"dataframe\">\n",
       "  <thead>\n",
       "    <tr style=\"text-align: right;\">\n",
       "      <th></th>\n",
       "      <th>filename</th>\n",
       "      <th>file_size</th>\n",
       "      <th>file_attributes</th>\n",
       "      <th>region_count</th>\n",
       "      <th>region_id</th>\n",
       "      <th>region_shape_attributes</th>\n",
       "      <th>region_attributes</th>\n",
       "    </tr>\n",
       "  </thead>\n",
       "  <tbody>\n",
       "    <tr>\n",
       "      <th>0</th>\n",
       "      <td>download (1).jpeg</td>\n",
       "      <td>11955</td>\n",
       "      <td>{}</td>\n",
       "      <td>4</td>\n",
       "      <td>0</td>\n",
       "      <td>{\"name\":\"rect\",\"x\":119,\"y\":65,\"width\":69,\"heig...</td>\n",
       "      <td>{}</td>\n",
       "    </tr>\n",
       "    <tr>\n",
       "      <th>1</th>\n",
       "      <td>download (1).jpeg</td>\n",
       "      <td>11955</td>\n",
       "      <td>{}</td>\n",
       "      <td>4</td>\n",
       "      <td>1</td>\n",
       "      <td>{\"name\":\"rect\",\"x\":2,\"y\":69,\"width\":66,\"height...</td>\n",
       "      <td>{}</td>\n",
       "    </tr>\n",
       "    <tr>\n",
       "      <th>2</th>\n",
       "      <td>download (1).jpeg</td>\n",
       "      <td>11955</td>\n",
       "      <td>{}</td>\n",
       "      <td>4</td>\n",
       "      <td>2</td>\n",
       "      <td>{\"name\":\"rect\",\"x\":197,\"y\":44,\"width\":63,\"heig...</td>\n",
       "      <td>{}</td>\n",
       "    </tr>\n",
       "    <tr>\n",
       "      <th>3</th>\n",
       "      <td>download (1).jpeg</td>\n",
       "      <td>11955</td>\n",
       "      <td>{}</td>\n",
       "      <td>4</td>\n",
       "      <td>3</td>\n",
       "      <td>{\"name\":\"rect\",\"x\":67,\"y\":20,\"width\":51,\"heigh...</td>\n",
       "      <td>{}</td>\n",
       "    </tr>\n",
       "    <tr>\n",
       "      <th>4</th>\n",
       "      <td>download (2).jpeg</td>\n",
       "      <td>15713</td>\n",
       "      <td>{}</td>\n",
       "      <td>10</td>\n",
       "      <td>0</td>\n",
       "      <td>{\"name\":\"rect\",\"x\":139,\"y\":91,\"width\":27,\"heig...</td>\n",
       "      <td>{}</td>\n",
       "    </tr>\n",
       "    <tr>\n",
       "      <th>...</th>\n",
       "      <td>...</td>\n",
       "      <td>...</td>\n",
       "      <td>...</td>\n",
       "      <td>...</td>\n",
       "      <td>...</td>\n",
       "      <td>...</td>\n",
       "      <td>...</td>\n",
       "    </tr>\n",
       "    <tr>\n",
       "      <th>179</th>\n",
       "      <td>images.jpeg</td>\n",
       "      <td>10629</td>\n",
       "      <td>{}</td>\n",
       "      <td>10</td>\n",
       "      <td>5</td>\n",
       "      <td>{\"name\":\"rect\",\"x\":44,\"y\":23,\"width\":36,\"heigh...</td>\n",
       "      <td>{}</td>\n",
       "    </tr>\n",
       "    <tr>\n",
       "      <th>180</th>\n",
       "      <td>images.jpeg</td>\n",
       "      <td>10629</td>\n",
       "      <td>{}</td>\n",
       "      <td>10</td>\n",
       "      <td>6</td>\n",
       "      <td>{\"name\":\"rect\",\"x\":274,\"y\":8,\"width\":28,\"heigh...</td>\n",
       "      <td>{}</td>\n",
       "    </tr>\n",
       "    <tr>\n",
       "      <th>181</th>\n",
       "      <td>images.jpeg</td>\n",
       "      <td>10629</td>\n",
       "      <td>{}</td>\n",
       "      <td>10</td>\n",
       "      <td>7</td>\n",
       "      <td>{\"name\":\"rect\",\"x\":132,\"y\":72,\"width\":60,\"heig...</td>\n",
       "      <td>{}</td>\n",
       "    </tr>\n",
       "    <tr>\n",
       "      <th>182</th>\n",
       "      <td>images.jpeg</td>\n",
       "      <td>10629</td>\n",
       "      <td>{}</td>\n",
       "      <td>10</td>\n",
       "      <td>8</td>\n",
       "      <td>{\"name\":\"rect\",\"x\":130,\"y\":21,\"width\":36,\"heig...</td>\n",
       "      <td>{}</td>\n",
       "    </tr>\n",
       "    <tr>\n",
       "      <th>183</th>\n",
       "      <td>images.jpeg</td>\n",
       "      <td>10629</td>\n",
       "      <td>{}</td>\n",
       "      <td>10</td>\n",
       "      <td>9</td>\n",
       "      <td>{\"name\":\"rect\",\"x\":24,\"y\":1,\"width\":18,\"height...</td>\n",
       "      <td>{}</td>\n",
       "    </tr>\n",
       "  </tbody>\n",
       "</table>\n",
       "<p>184 rows × 7 columns</p>\n",
       "</div>"
      ],
      "text/plain": [
       "              filename  file_size file_attributes  region_count  region_id  \\\n",
       "0    download (1).jpeg      11955              {}             4          0   \n",
       "1    download (1).jpeg      11955              {}             4          1   \n",
       "2    download (1).jpeg      11955              {}             4          2   \n",
       "3    download (1).jpeg      11955              {}             4          3   \n",
       "4    download (2).jpeg      15713              {}            10          0   \n",
       "..                 ...        ...             ...           ...        ...   \n",
       "179        images.jpeg      10629              {}            10          5   \n",
       "180        images.jpeg      10629              {}            10          6   \n",
       "181        images.jpeg      10629              {}            10          7   \n",
       "182        images.jpeg      10629              {}            10          8   \n",
       "183        images.jpeg      10629              {}            10          9   \n",
       "\n",
       "                               region_shape_attributes region_attributes  \n",
       "0    {\"name\":\"rect\",\"x\":119,\"y\":65,\"width\":69,\"heig...                {}  \n",
       "1    {\"name\":\"rect\",\"x\":2,\"y\":69,\"width\":66,\"height...                {}  \n",
       "2    {\"name\":\"rect\",\"x\":197,\"y\":44,\"width\":63,\"heig...                {}  \n",
       "3    {\"name\":\"rect\",\"x\":67,\"y\":20,\"width\":51,\"heigh...                {}  \n",
       "4    {\"name\":\"rect\",\"x\":139,\"y\":91,\"width\":27,\"heig...                {}  \n",
       "..                                                 ...               ...  \n",
       "179  {\"name\":\"rect\",\"x\":44,\"y\":23,\"width\":36,\"heigh...                {}  \n",
       "180  {\"name\":\"rect\",\"x\":274,\"y\":8,\"width\":28,\"heigh...                {}  \n",
       "181  {\"name\":\"rect\",\"x\":132,\"y\":72,\"width\":60,\"heig...                {}  \n",
       "182  {\"name\":\"rect\",\"x\":130,\"y\":21,\"width\":36,\"heig...                {}  \n",
       "183  {\"name\":\"rect\",\"x\":24,\"y\":1,\"width\":18,\"height...                {}  \n",
       "\n",
       "[184 rows x 7 columns]"
      ]
     },
     "execution_count": 58,
     "metadata": {},
     "output_type": "execute_result"
    }
   ],
   "source": [
    "all_boxes"
   ]
  },
  {
   "cell_type": "code",
   "execution_count": null,
   "metadata": {},
   "outputs": [],
   "source": []
  }
 ],
 "metadata": {
  "kernelspec": {
   "display_name": "Python 3",
   "language": "python",
   "name": "python3"
  },
  "language_info": {
   "codemirror_mode": {
    "name": "ipython",
    "version": 3
   },
   "file_extension": ".py",
   "mimetype": "text/x-python",
   "name": "python",
   "nbconvert_exporter": "python",
   "pygments_lexer": "ipython3",
   "version": "3.7.6"
  }
 },
 "nbformat": 4,
 "nbformat_minor": 4
}
