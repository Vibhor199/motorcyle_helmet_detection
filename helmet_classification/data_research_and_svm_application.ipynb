{
 "cells": [
  {
   "cell_type": "code",
   "execution_count": 2,
   "metadata": {},
   "outputs": [],
   "source": [
    "import pandas as pd\n",
    "import numpy as np\n",
    "from sklearn.svm import SVC\n",
    "import cv2\n",
    "from numpy import genfromtxt\n",
    "from sklearn.model_selection import train_test_split\n",
    "from sklearn.metrics import classification_report\n",
    "import sys, os, random\n",
    "from tqdm import tqdm\n",
    "from skimage.feature import local_binary_pattern\n",
    "from skimage import color"
   ]
  },
  {
   "cell_type": "code",
   "execution_count": 237,
   "metadata": {},
   "outputs": [],
   "source": [
    "label = {\n",
    "    'normal_unhelmeted':0,\n",
    "    'helmeted':1,\n",
    "    'cap':2,\n",
    "    'bald':3,\n",
    "    'burkha':4\n",
    "    \n",
    "}"
   ]
  },
  {
   "cell_type": "markdown",
   "metadata": {},
   "source": [
    "# Loading first set of dataframe"
   ]
  },
  {
   "cell_type": "code",
   "execution_count": 209,
   "metadata": {},
   "outputs": [],
   "source": [
    "x = genfromtxt('../data/hog.csv', delimiter=',')[:,1:]\n",
    "y = pd.read_csv(\"../data/label.csv\", names=['id','non_helmet'])[['non_helmet']]"
   ]
  },
  {
   "cell_type": "code",
   "execution_count": 210,
   "metadata": {
    "scrolled": true
   },
   "outputs": [],
   "source": [
    "y['non_helmet']=y.non_helmet.map(lambda x: label['helmeted'] if x == 'helmet' else label['normal_unhelmeted'])\n",
    "# y['non_helmet']=y.non_helmet.map(lambda x:1 if x == 'helmet' else 0)"
   ]
  },
  {
   "cell_type": "code",
   "execution_count": 211,
   "metadata": {},
   "outputs": [
    {
     "data": {
      "text/html": [
       "<div>\n",
       "<style scoped>\n",
       "    .dataframe tbody tr th:only-of-type {\n",
       "        vertical-align: middle;\n",
       "    }\n",
       "\n",
       "    .dataframe tbody tr th {\n",
       "        vertical-align: top;\n",
       "    }\n",
       "\n",
       "    .dataframe thead th {\n",
       "        text-align: right;\n",
       "    }\n",
       "</style>\n",
       "<table border=\"1\" class=\"dataframe\">\n",
       "  <thead>\n",
       "    <tr style=\"text-align: right;\">\n",
       "      <th></th>\n",
       "      <th>non_helmet</th>\n",
       "    </tr>\n",
       "  </thead>\n",
       "  <tbody>\n",
       "    <tr>\n",
       "      <th>0</th>\n",
       "      <td>0</td>\n",
       "    </tr>\n",
       "    <tr>\n",
       "      <th>1</th>\n",
       "      <td>0</td>\n",
       "    </tr>\n",
       "    <tr>\n",
       "      <th>2</th>\n",
       "      <td>0</td>\n",
       "    </tr>\n",
       "    <tr>\n",
       "      <th>3</th>\n",
       "      <td>0</td>\n",
       "    </tr>\n",
       "    <tr>\n",
       "      <th>4</th>\n",
       "      <td>0</td>\n",
       "    </tr>\n",
       "    <tr>\n",
       "      <th>...</th>\n",
       "      <td>...</td>\n",
       "    </tr>\n",
       "    <tr>\n",
       "      <th>29120</th>\n",
       "      <td>1</td>\n",
       "    </tr>\n",
       "    <tr>\n",
       "      <th>29121</th>\n",
       "      <td>1</td>\n",
       "    </tr>\n",
       "    <tr>\n",
       "      <th>29122</th>\n",
       "      <td>1</td>\n",
       "    </tr>\n",
       "    <tr>\n",
       "      <th>29123</th>\n",
       "      <td>1</td>\n",
       "    </tr>\n",
       "    <tr>\n",
       "      <th>29124</th>\n",
       "      <td>1</td>\n",
       "    </tr>\n",
       "  </tbody>\n",
       "</table>\n",
       "<p>29125 rows × 1 columns</p>\n",
       "</div>"
      ],
      "text/plain": [
       "       non_helmet\n",
       "0               0\n",
       "1               0\n",
       "2               0\n",
       "3               0\n",
       "4               0\n",
       "...           ...\n",
       "29120           1\n",
       "29121           1\n",
       "29122           1\n",
       "29123           1\n",
       "29124           1\n",
       "\n",
       "[29125 rows x 1 columns]"
      ]
     },
     "execution_count": 211,
     "metadata": {},
     "output_type": "execute_result"
    }
   ],
   "source": [
    "y"
   ]
  },
  {
   "cell_type": "code",
   "execution_count": 212,
   "metadata": {},
   "outputs": [],
   "source": [
    "n = np.append(x, y, axis = 1)\n",
    "n = np.unique(n, axis=0)"
   ]
  },
  {
   "cell_type": "code",
   "execution_count": 213,
   "metadata": {},
   "outputs": [
    {
     "data": {
      "text/plain": [
       "array([[0.        , 0.        , 0.        , ..., 0.2697897 , 0.26690334,\n",
       "        0.        ],\n",
       "       [0.        , 0.        , 0.        , ..., 0.13782546, 0.11152794,\n",
       "        1.        ],\n",
       "       [0.        , 0.        , 0.        , ..., 0.03489072, 0.35036   ,\n",
       "        1.        ],\n",
       "       ...,\n",
       "       [0.46200427, 0.01541177, 0.00761054, ..., 0.020271  , 0.13539703,\n",
       "        1.        ],\n",
       "       [0.47009906, 0.161956  , 0.08517306, ..., 0.10214558, 0.374855  ,\n",
       "        1.        ],\n",
       "       [0.47500736, 0.11118197, 0.03049811, ..., 0.15865491, 0.11624321,\n",
       "        1.        ]])"
      ]
     },
     "execution_count": 213,
     "metadata": {},
     "output_type": "execute_result"
    }
   ],
   "source": [
    "n"
   ]
  },
  {
   "cell_type": "markdown",
   "metadata": {},
   "source": [
    "# Loading second set of dataframes"
   ]
  },
  {
   "cell_type": "code",
   "execution_count": 214,
   "metadata": {},
   "outputs": [],
   "source": [
    "x = genfromtxt('../data/hog_2.csv', delimiter=',')[:,1:]\n",
    "y = pd.read_csv(\"../data/label_2.csv\", names=['id','non_helmet'])[['non_helmet']]"
   ]
  },
  {
   "cell_type": "code",
   "execution_count": 215,
   "metadata": {},
   "outputs": [],
   "source": [
    "y['non_helmet']=y.non_helmet.map(lambda x: label['helmeted'] if x == 'helmet' else label['normal_unhelmeted'])\n",
    "# y['non_helmet']=y.non_helmet.map(lambda x:1 if x == 'helmet' else 0)"
   ]
  },
  {
   "cell_type": "code",
   "execution_count": 216,
   "metadata": {},
   "outputs": [],
   "source": [
    "n1 = np.append(x, y, axis = 1)\n",
    "n1 = np.unique(n1, axis=0)"
   ]
  },
  {
   "cell_type": "code",
   "execution_count": 217,
   "metadata": {},
   "outputs": [],
   "source": [
    "n = np.append(n,n1,axis=0)"
   ]
  },
  {
   "cell_type": "code",
   "execution_count": 218,
   "metadata": {},
   "outputs": [
    {
     "data": {
      "text/plain": [
       "1.0    1224\n",
       "0.0     734\n",
       "dtype: int64"
      ]
     },
     "execution_count": 218,
     "metadata": {},
     "output_type": "execute_result"
    }
   ],
   "source": [
    "n = np.unique(n,axis=0) \n",
    "pd.Series(n[:,-1]).value_counts()"
   ]
  },
  {
   "cell_type": "code",
   "execution_count": 219,
   "metadata": {},
   "outputs": [
    {
     "data": {
      "text/plain": [
       "array([[0.0000000e+00, 0.0000000e+00, 0.0000000e+00, ..., 3.2261476e-02,\n",
       "        2.5491458e-01, 0.0000000e+00],\n",
       "       [0.0000000e+00, 0.0000000e+00, 0.0000000e+00, ..., 0.0000000e+00,\n",
       "        0.0000000e+00, 0.0000000e+00],\n",
       "       [0.0000000e+00, 0.0000000e+00, 0.0000000e+00, ..., 6.8351277e-03,\n",
       "        8.6880280e-04, 0.0000000e+00],\n",
       "       ...,\n",
       "       [4.7500736e-01, 1.1118197e-01, 3.0498110e-02, ..., 1.5865491e-01,\n",
       "        1.1624321e-01, 1.0000000e+00],\n",
       "       [4.8351760e-01, 1.6326050e-01, 1.7378226e-01, ..., 3.7027678e-01,\n",
       "        8.0871580e-02, 0.0000000e+00],\n",
       "       [5.0780195e-01, 1.0185144e-02, 3.0477721e-02, ..., 5.0180927e-03,\n",
       "        2.4104919e-01, 0.0000000e+00]])"
      ]
     },
     "execution_count": 219,
     "metadata": {},
     "output_type": "execute_result"
    }
   ],
   "source": [
    "n"
   ]
  },
  {
   "cell_type": "markdown",
   "metadata": {},
   "source": [
    "# Loading third set of dataframe"
   ]
  },
  {
   "cell_type": "code",
   "execution_count": 220,
   "metadata": {},
   "outputs": [],
   "source": [
    "x = genfromtxt('../data/hog_3.csv', delimiter=',')[:,1:]\n",
    "y = pd.read_csv(\"../data/label_3.csv\", names=['id','non_helmet'])[['non_helmet']]"
   ]
  },
  {
   "cell_type": "code",
   "execution_count": 221,
   "metadata": {},
   "outputs": [],
   "source": [
    "y['non_helmet']=y.non_helmet.map(lambda x: label['helmeted'] if x == 'helmet' else label['normal_unhelmeted'])\n",
    "# y['non_helmet']=y.non_helmet.map(lambda x:1 if x == 'helmet' else 0)"
   ]
  },
  {
   "cell_type": "code",
   "execution_count": 222,
   "metadata": {},
   "outputs": [],
   "source": [
    "n2 = np.append(x, y, axis = 1)\n",
    "n2 = np.unique(n2, axis=0)"
   ]
  },
  {
   "cell_type": "code",
   "execution_count": 223,
   "metadata": {},
   "outputs": [],
   "source": [
    "n = np.append(n,n2,axis=0)"
   ]
  },
  {
   "cell_type": "code",
   "execution_count": 224,
   "metadata": {},
   "outputs": [
    {
     "data": {
      "text/plain": [
       "1.0    1224\n",
       "0.0    1047\n",
       "dtype: int64"
      ]
     },
     "execution_count": 224,
     "metadata": {},
     "output_type": "execute_result"
    }
   ],
   "source": [
    "n = np.unique(n,axis=0) \n",
    "pd.Series(n[:,-1]).value_counts()"
   ]
  },
  {
   "cell_type": "markdown",
   "metadata": {},
   "source": [
    "# Reading from output cap"
   ]
  },
  {
   "cell_type": "code",
   "execution_count": 226,
   "metadata": {},
   "outputs": [],
   "source": [
    "x = genfromtxt('../data/output_cap_csv/hog.csv', delimiter=',')[:,1:]\n",
    "y = pd.read_csv(\"../data/output_cap_csv/label.csv\", names=['id','non_helmet'])[['non_helmet']]"
   ]
  },
  {
   "cell_type": "code",
   "execution_count": 227,
   "metadata": {},
   "outputs": [],
   "source": [
    "y['non_helmet']=y.non_helmet.map(lambda x: label['helmeted'] if x == 'helmet' else label['cap'])\n",
    "# y['non_helmet']=y.non_helmet.map(lambda x:1 if x == 'helmet' else 0)"
   ]
  },
  {
   "cell_type": "code",
   "execution_count": 228,
   "metadata": {},
   "outputs": [],
   "source": [
    "n3 = np.append(x, y, axis = 1)\n",
    "n3 = np.unique(n3, axis=0)"
   ]
  },
  {
   "cell_type": "code",
   "execution_count": 229,
   "metadata": {},
   "outputs": [],
   "source": [
    "n = np.append(n,n3,axis=0)"
   ]
  },
  {
   "cell_type": "code",
   "execution_count": 230,
   "metadata": {},
   "outputs": [
    {
     "data": {
      "text/plain": [
       "1.0    1224\n",
       "0.0    1047\n",
       "2.0     184\n",
       "dtype: int64"
      ]
     },
     "execution_count": 230,
     "metadata": {},
     "output_type": "execute_result"
    }
   ],
   "source": [
    "n = np.unique(n,axis=0) \n",
    "pd.Series(n[:,-1]).value_counts()"
   ]
  },
  {
   "cell_type": "markdown",
   "metadata": {},
   "source": [
    "# Reading from output bald"
   ]
  },
  {
   "cell_type": "code",
   "execution_count": 232,
   "metadata": {},
   "outputs": [],
   "source": [
    "x = genfromtxt('../data/output_bald/hog.csv', delimiter=',')[:,1:]\n",
    "y = pd.read_csv(\"../data/output_bald/label.csv\", names=['id','non_helmet'])[['non_helmet']]"
   ]
  },
  {
   "cell_type": "code",
   "execution_count": 233,
   "metadata": {},
   "outputs": [],
   "source": [
    "y['non_helmet']=y.non_helmet.map(lambda x: label['helmeted'] if x == 'helmet' else label['bald'])\n",
    "# y['non_helmet']=y.non_helmet.map(lambda x:1 if x == 'helmet' else 0)"
   ]
  },
  {
   "cell_type": "code",
   "execution_count": 234,
   "metadata": {},
   "outputs": [],
   "source": [
    "n4 = np.append(x, y, axis = 1)\n",
    "n4 = np.unique(n4, axis=0)"
   ]
  },
  {
   "cell_type": "code",
   "execution_count": 235,
   "metadata": {},
   "outputs": [],
   "source": [
    "n = np.append(n,n4,axis=0)"
   ]
  },
  {
   "cell_type": "code",
   "execution_count": 236,
   "metadata": {},
   "outputs": [
    {
     "data": {
      "text/plain": [
       "1.0    1224\n",
       "0.0    1047\n",
       "2.0     184\n",
       "3.0     162\n",
       "dtype: int64"
      ]
     },
     "execution_count": 236,
     "metadata": {},
     "output_type": "execute_result"
    }
   ],
   "source": [
    "n = np.unique(n,axis=0) \n",
    "pd.Series(n[:,-1]).value_counts()"
   ]
  },
  {
   "cell_type": "markdown",
   "metadata": {},
   "source": [
    "# Reading from burkha out"
   ]
  },
  {
   "cell_type": "code",
   "execution_count": 238,
   "metadata": {},
   "outputs": [],
   "source": [
    "x = genfromtxt('../data/burkha_out/hog.csv', delimiter=',')[:,1:]\n",
    "y = pd.read_csv(\"../data/burkha_out/label.csv\", names=['id','non_helmet'])[['non_helmet']]"
   ]
  },
  {
   "cell_type": "code",
   "execution_count": 239,
   "metadata": {},
   "outputs": [],
   "source": [
    "y['non_helmet']=y.non_helmet.map(lambda x: label['helmeted'] if x == 'helmet' else label['burkha'])\n",
    "# y['non_helmet']=y.non_helmet.map(lambda x:1 if x == 'helmet' else 0)"
   ]
  },
  {
   "cell_type": "code",
   "execution_count": 240,
   "metadata": {},
   "outputs": [],
   "source": [
    "n5 = np.append(x, y, axis = 1)\n",
    "n5 = np.unique(n5, axis=0)"
   ]
  },
  {
   "cell_type": "code",
   "execution_count": 241,
   "metadata": {},
   "outputs": [],
   "source": [
    "n = np.append(n,n5,axis=0)"
   ]
  },
  {
   "cell_type": "code",
   "execution_count": 242,
   "metadata": {},
   "outputs": [
    {
     "data": {
      "text/plain": [
       "1.0    1224\n",
       "0.0    1047\n",
       "2.0     184\n",
       "3.0     162\n",
       "4.0     109\n",
       "dtype: int64"
      ]
     },
     "execution_count": 242,
     "metadata": {},
     "output_type": "execute_result"
    }
   ],
   "source": [
    "n = np.unique(n,axis=0) \n",
    "pd.Series(n[:,-1]).value_counts()"
   ]
  },
  {
   "cell_type": "markdown",
   "metadata": {},
   "source": [
    "# Delete extra"
   ]
  },
  {
   "cell_type": "code",
   "execution_count": 243,
   "metadata": {},
   "outputs": [],
   "source": [
    "del n1,n2,n3,n4,n5,x,y"
   ]
  },
  {
   "cell_type": "markdown",
   "metadata": {},
   "source": [
    "# PCA"
   ]
  },
  {
   "cell_type": "code",
   "execution_count": 42,
   "metadata": {},
   "outputs": [],
   "source": [
    "from sklearn.preprocessing import StandardScaler\n",
    "x = StandardScaler().fit_transform(n.values[:,:-1])\n",
    "y = n.values[:,-1]"
   ]
  },
  {
   "cell_type": "code",
   "execution_count": 43,
   "metadata": {},
   "outputs": [],
   "source": [
    "from sklearn.decomposition import PCA\n",
    "pca = PCA(n_components=2)\n",
    "principalComponents = pca.fit_transform(x)\n",
    "principalDf = pd.DataFrame(data = principalComponents\n",
    "             , columns = ['principal component 1', 'principal component 2'])"
   ]
  },
  {
   "cell_type": "code",
   "execution_count": 44,
   "metadata": {
    "scrolled": true
   },
   "outputs": [],
   "source": [
    "finalDf = pd.concat([principalDf, pd.Series(y,name='target')], axis = 1)"
   ]
  },
  {
   "cell_type": "code",
   "execution_count": 45,
   "metadata": {},
   "outputs": [
    {
     "data": {
      "text/html": [
       "<div>\n",
       "<style scoped>\n",
       "    .dataframe tbody tr th:only-of-type {\n",
       "        vertical-align: middle;\n",
       "    }\n",
       "\n",
       "    .dataframe tbody tr th {\n",
       "        vertical-align: top;\n",
       "    }\n",
       "\n",
       "    .dataframe thead th {\n",
       "        text-align: right;\n",
       "    }\n",
       "</style>\n",
       "<table border=\"1\" class=\"dataframe\">\n",
       "  <thead>\n",
       "    <tr style=\"text-align: right;\">\n",
       "      <th></th>\n",
       "      <th>principal component 1</th>\n",
       "      <th>principal component 2</th>\n",
       "      <th>target</th>\n",
       "    </tr>\n",
       "  </thead>\n",
       "  <tbody>\n",
       "    <tr>\n",
       "      <th>0</th>\n",
       "      <td>-7.139556</td>\n",
       "      <td>4.816591</td>\n",
       "      <td>helmet</td>\n",
       "    </tr>\n",
       "    <tr>\n",
       "      <th>1</th>\n",
       "      <td>-8.098833</td>\n",
       "      <td>-0.665206</td>\n",
       "      <td>helmet</td>\n",
       "    </tr>\n",
       "    <tr>\n",
       "      <th>2</th>\n",
       "      <td>-10.631636</td>\n",
       "      <td>4.423109</td>\n",
       "      <td>helmet</td>\n",
       "    </tr>\n",
       "    <tr>\n",
       "      <th>3</th>\n",
       "      <td>-7.259442</td>\n",
       "      <td>-0.907548</td>\n",
       "      <td>helmet</td>\n",
       "    </tr>\n",
       "    <tr>\n",
       "      <th>4</th>\n",
       "      <td>-9.703158</td>\n",
       "      <td>4.725519</td>\n",
       "      <td>helmet</td>\n",
       "    </tr>\n",
       "    <tr>\n",
       "      <th>...</th>\n",
       "      <td>...</td>\n",
       "      <td>...</td>\n",
       "      <td>...</td>\n",
       "    </tr>\n",
       "    <tr>\n",
       "      <th>3091</th>\n",
       "      <td>-8.300495</td>\n",
       "      <td>0.481217</td>\n",
       "      <td>open_head</td>\n",
       "    </tr>\n",
       "    <tr>\n",
       "      <th>3092</th>\n",
       "      <td>-7.964401</td>\n",
       "      <td>1.164428</td>\n",
       "      <td>open_head</td>\n",
       "    </tr>\n",
       "    <tr>\n",
       "      <th>3093</th>\n",
       "      <td>-6.173484</td>\n",
       "      <td>2.204851</td>\n",
       "      <td>open_head</td>\n",
       "    </tr>\n",
       "    <tr>\n",
       "      <th>3094</th>\n",
       "      <td>-7.403638</td>\n",
       "      <td>1.111528</td>\n",
       "      <td>open_head</td>\n",
       "    </tr>\n",
       "    <tr>\n",
       "      <th>3095</th>\n",
       "      <td>-8.228146</td>\n",
       "      <td>3.147071</td>\n",
       "      <td>open_head</td>\n",
       "    </tr>\n",
       "  </tbody>\n",
       "</table>\n",
       "<p>3096 rows × 3 columns</p>\n",
       "</div>"
      ],
      "text/plain": [
       "      principal component 1  principal component 2     target\n",
       "0                 -7.139556               4.816591     helmet\n",
       "1                 -8.098833              -0.665206     helmet\n",
       "2                -10.631636               4.423109     helmet\n",
       "3                 -7.259442              -0.907548     helmet\n",
       "4                 -9.703158               4.725519     helmet\n",
       "...                     ...                    ...        ...\n",
       "3091              -8.300495               0.481217  open_head\n",
       "3092              -7.964401               1.164428  open_head\n",
       "3093              -6.173484               2.204851  open_head\n",
       "3094              -7.403638               1.111528  open_head\n",
       "3095              -8.228146               3.147071  open_head\n",
       "\n",
       "[3096 rows x 3 columns]"
      ]
     },
     "execution_count": 45,
     "metadata": {},
     "output_type": "execute_result"
    }
   ],
   "source": [
    "finalDf"
   ]
  },
  {
   "cell_type": "code",
   "execution_count": 47,
   "metadata": {},
   "outputs": [
    {
     "data": {
      "image/png": "[encoded data removed]",
      "text/plain": [
       "<Figure size 1440x1440 with 1 Axes>"
      ]
     },
     "metadata": {
      "needs_background": "light"
     },
     "output_type": "display_data"
    }
   ],
   "source": [
    "%matplotlib inline\n",
    "import matplotlib\n",
    "import matplotlib.pyplot as plt\n",
    "fig = plt.figure(figsize = (20,20))\n",
    "ax = fig.add_subplot(1,1,1) \n",
    "ax.set_xlabel('Principal Component 1', fontsize = 15)\n",
    "ax.set_ylabel('Principal Component 2', fontsize = 15)\n",
    "ax.set_title('2 component PCA', fontsize = 20)\n",
    "targets = ['helmet', 'open_head', 'cap', 'bald', 'burkha', 'turban']\n",
    "colors = ['orange', 'green', 'blue', 'brown', 'red','black']\n",
    "for target, color in zip(targets,colors):\n",
    "    indicesToKeep = finalDf['target'] == target\n",
    "    ax.scatter(finalDf.loc[indicesToKeep, 'principal component 1']\n",
    "               , finalDf.loc[indicesToKeep, 'principal component 2']\n",
    "               , c = color\n",
    "               , s = 3)\n",
    "ax.legend(targets)\n",
    "ax.grid()"
   ]
  },
  {
   "cell_type": "markdown",
   "metadata": {},
   "source": [
    "# Prediction"
   ]
  },
  {
   "cell_type": "code",
   "execution_count": 58,
   "metadata": {},
   "outputs": [],
   "source": [
    "n = nn"
   ]
  },
  {
   "cell_type": "code",
   "execution_count": 53,
   "metadata": {},
   "outputs": [],
   "source": [
    "nn = n\n",
    "n = n[(n.target != 'turban')&(n.target != 'cap')]"
   ]
  },
  {
   "cell_type": "code",
   "execution_count": 76,
   "metadata": {},
   "outputs": [
    {
     "name": "stderr",
     "output_type": "stream",
     "text": [
      "/usr/local/lib/python3.7/site-packages/ipykernel_launcher.py:1: SettingWithCopyWarning: \n",
      "A value is trying to be set on a copy of a slice from a DataFrame.\n",
      "Try using .loc[row_indexer,col_indexer] = value instead\n",
      "\n",
      "See the caveats in the documentation: http://pandas.pydata.org/pandas-docs/stable/user_guide/indexing.html#returning-a-view-versus-a-copy\n",
      "  \"\"\"Entry point for launching an IPython kernel.\n"
     ]
    }
   ],
   "source": [
    "n['target'] = n.target.map(lambda x: x if x=='helmet' else 'non')"
   ]
  },
  {
   "cell_type": "code",
   "execution_count": 78,
   "metadata": {
    "scrolled": true
   },
   "outputs": [],
   "source": [
    "X_train, X_test, y_train, y_test = train_test_split(n.values[:,:-1], n.values[:,-1], test_size=1/5, random_state=42)"
   ]
  },
  {
   "cell_type": "code",
   "execution_count": 79,
   "metadata": {},
   "outputs": [],
   "source": [
    "model = SVC()\n",
    "a = model.fit(X_train,y_train)"
   ]
  },
  {
   "cell_type": "code",
   "execution_count": 80,
   "metadata": {},
   "outputs": [
    {
     "name": "stdout",
     "output_type": "stream",
     "text": [
      "              precision    recall  f1-score   support\n",
      "\n",
      "      helmet       0.70      0.67      0.68       297\n",
      "         non       0.71      0.73      0.72       323\n",
      "\n",
      "    accuracy                           0.70       620\n",
      "   macro avg       0.70      0.70      0.70       620\n",
      "weighted avg       0.70      0.70      0.70       620\n",
      "\n"
     ]
    }
   ],
   "source": [
    "print(classification_report(y_test,a.predict(X_test)))"
   ]
  },
  {
   "cell_type": "markdown",
   "metadata": {},
   "source": [
    "# Test on one image"
   ]
  },
  {
   "cell_type": "code",
   "execution_count": 87,
   "metadata": {},
   "outputs": [
    {
     "name": "stdout",
     "output_type": "stream",
     "text": [
      "['non']\n"
     ]
    }
   ],
   "source": [
    "img = cv2.imread('/Users/betterhalf/Desktop/projects/motorcyle_helmet_detection/helmet_classification/images_for_manual_testing/no-helmet.jpeg')\n",
    "img = cv2.resize(img,(100,100))\n",
    "img = cv2.cvtColor(img, cv2.COLOR_RGB2GRAY)\n",
    "img = local_binary_pattern(img, 8, 1)\n",
    "hist, _ = np.histogram(img, bins=np.arange(2**8 + 1), density=True)\n",
    "print(a.predict([hist]))"
   ]
  },
  {
   "cell_type": "markdown",
   "metadata": {},
   "source": [
    "# cropping images from annotated csv"
   ]
  },
  {
   "cell_type": "code",
   "execution_count": 95,
   "metadata": {},
   "outputs": [],
   "source": [
    "op_path = \"/Users/betterhalf/Desktop/projects/motorcyle_helmet_detection/data/downloaded_from_google/non_helmet/burkha_output\"\n",
    "images_path = \"/Users/betterhalf/Desktop/projects/motorcyle_helmet_detection/data/downloaded_from_google/non_helmet/burkha\"\n",
    "csv_path = \"/Users/betterhalf/Desktop/projects/motorcyle_helmet_detection/data/downloaded_from_google/via_export_csv_bukha.csv\""
   ]
  },
  {
   "cell_type": "code",
   "execution_count": 96,
   "metadata": {},
   "outputs": [],
   "source": [
    "all_boxes = pd.read_csv(csv_path)"
   ]
  },
  {
   "cell_type": "code",
   "execution_count": 97,
   "metadata": {
    "scrolled": true
   },
   "outputs": [],
   "source": [
    "import os  \n",
    "ct = 0 \n",
    "for row in all_boxes.iterrows():\n",
    "    row = row[1]\n",
    "    img = cv2.imread(os.path.join(images_path,row.filename))\n",
    "    att = eval(row.region_shape_attributes)\n",
    "    y = att['y']\n",
    "    x = att['x']\n",
    "    h = att['height']\n",
    "    w = att['width']\n",
    "    n_img = img[y:y+h, x:x+w]\n",
    "    cv2.imwrite(os.path.join(op_path,str(ct)+str(row.filename)),n_img)\n",
    "    ct+=1"
   ]
  },
  {
   "cell_type": "code",
   "execution_count": 58,
   "metadata": {},
   "outputs": [
    {
     "data": {
      "text/html": [
       "<div>\n",
       "<style scoped>\n",
       "    .dataframe tbody tr th:only-of-type {\n",
       "        vertical-align: middle;\n",
       "    }\n",
       "\n",
       "    .dataframe tbody tr th {\n",
       "        vertical-align: top;\n",
       "    }\n",
       "\n",
       "    .dataframe thead th {\n",
       "        text-align: right;\n",
       "    }\n",
       "</style>\n",
       "<table border=\"1\" class=\"dataframe\">\n",
       "  <thead>\n",
       "    <tr style=\"text-align: right;\">\n",
       "      <th></th>\n",
       "      <th>filename</th>\n",
       "      <th>file_size</th>\n",
       "      <th>file_attributes</th>\n",
       "      <th>region_count</th>\n",
       "      <th>region_id</th>\n",
       "      <th>region_shape_attributes</th>\n",
       "      <th>region_attributes</th>\n",
       "    </tr>\n",
       "  </thead>\n",
       "  <tbody>\n",
       "    <tr>\n",
       "      <th>0</th>\n",
       "      <td>download (1).jpeg</td>\n",
       "      <td>11955</td>\n",
       "      <td>{}</td>\n",
       "      <td>4</td>\n",
       "      <td>0</td>\n",
       "      <td>{\"name\":\"rect\",\"x\":119,\"y\":65,\"width\":69,\"heig...</td>\n",
       "      <td>{}</td>\n",
       "    </tr>\n",
       "    <tr>\n",
       "      <th>1</th>\n",
       "      <td>download (1).jpeg</td>\n",
       "      <td>11955</td>\n",
       "      <td>{}</td>\n",
       "      <td>4</td>\n",
       "      <td>1</td>\n",
       "      <td>{\"name\":\"rect\",\"x\":2,\"y\":69,\"width\":66,\"height...</td>\n",
       "      <td>{}</td>\n",
       "    </tr>\n",
       "    <tr>\n",
       "      <th>2</th>\n",
       "      <td>download (1).jpeg</td>\n",
       "      <td>11955</td>\n",
       "      <td>{}</td>\n",
       "      <td>4</td>\n",
       "      <td>2</td>\n",
       "      <td>{\"name\":\"rect\",\"x\":197,\"y\":44,\"width\":63,\"heig...</td>\n",
       "      <td>{}</td>\n",
       "    </tr>\n",
       "    <tr>\n",
       "      <th>3</th>\n",
       "      <td>download (1).jpeg</td>\n",
       "      <td>11955</td>\n",
       "      <td>{}</td>\n",
       "      <td>4</td>\n",
       "      <td>3</td>\n",
       "      <td>{\"name\":\"rect\",\"x\":67,\"y\":20,\"width\":51,\"heigh...</td>\n",
       "      <td>{}</td>\n",
       "    </tr>\n",
       "    <tr>\n",
       "      <th>4</th>\n",
       "      <td>download (2).jpeg</td>\n",
       "      <td>15713</td>\n",
       "      <td>{}</td>\n",
       "      <td>10</td>\n",
       "      <td>0</td>\n",
       "      <td>{\"name\":\"rect\",\"x\":139,\"y\":91,\"width\":27,\"heig...</td>\n",
       "      <td>{}</td>\n",
       "    </tr>\n",
       "    <tr>\n",
       "      <th>...</th>\n",
       "      <td>...</td>\n",
       "      <td>...</td>\n",
       "      <td>...</td>\n",
       "      <td>...</td>\n",
       "      <td>...</td>\n",
       "      <td>...</td>\n",
       "      <td>...</td>\n",
       "    </tr>\n",
       "    <tr>\n",
       "      <th>179</th>\n",
       "      <td>images.jpeg</td>\n",
       "      <td>10629</td>\n",
       "      <td>{}</td>\n",
       "      <td>10</td>\n",
       "      <td>5</td>\n",
       "      <td>{\"name\":\"rect\",\"x\":44,\"y\":23,\"width\":36,\"heigh...</td>\n",
       "      <td>{}</td>\n",
       "    </tr>\n",
       "    <tr>\n",
       "      <th>180</th>\n",
       "      <td>images.jpeg</td>\n",
       "      <td>10629</td>\n",
       "      <td>{}</td>\n",
       "      <td>10</td>\n",
       "      <td>6</td>\n",
       "      <td>{\"name\":\"rect\",\"x\":274,\"y\":8,\"width\":28,\"heigh...</td>\n",
       "      <td>{}</td>\n",
       "    </tr>\n",
       "    <tr>\n",
       "      <th>181</th>\n",
       "      <td>images.jpeg</td>\n",
       "      <td>10629</td>\n",
       "      <td>{}</td>\n",
       "      <td>10</td>\n",
       "      <td>7</td>\n",
       "      <td>{\"name\":\"rect\",\"x\":132,\"y\":72,\"width\":60,\"heig...</td>\n",
       "      <td>{}</td>\n",
       "    </tr>\n",
       "    <tr>\n",
       "      <th>182</th>\n",
       "      <td>images.jpeg</td>\n",
       "      <td>10629</td>\n",
       "      <td>{}</td>\n",
       "      <td>10</td>\n",
       "      <td>8</td>\n",
       "      <td>{\"name\":\"rect\",\"x\":130,\"y\":21,\"width\":36,\"heig...</td>\n",
       "      <td>{}</td>\n",
       "    </tr>\n",
       "    <tr>\n",
       "      <th>183</th>\n",
       "      <td>images.jpeg</td>\n",
       "      <td>10629</td>\n",
       "      <td>{}</td>\n",
       "      <td>10</td>\n",
       "      <td>9</td>\n",
       "      <td>{\"name\":\"rect\",\"x\":24,\"y\":1,\"width\":18,\"height...</td>\n",
       "      <td>{}</td>\n",
       "    </tr>\n",
       "  </tbody>\n",
       "</table>\n",
       "<p>184 rows × 7 columns</p>\n",
       "</div>"
      ],
      "text/plain": [
       "              filename  file_size file_attributes  region_count  region_id  \\\n",
       "0    download (1).jpeg      11955              {}             4          0   \n",
       "1    download (1).jpeg      11955              {}             4          1   \n",
       "2    download (1).jpeg      11955              {}             4          2   \n",
       "3    download (1).jpeg      11955              {}             4          3   \n",
       "4    download (2).jpeg      15713              {}            10          0   \n",
       "..                 ...        ...             ...           ...        ...   \n",
       "179        images.jpeg      10629              {}            10          5   \n",
       "180        images.jpeg      10629              {}            10          6   \n",
       "181        images.jpeg      10629              {}            10          7   \n",
       "182        images.jpeg      10629              {}            10          8   \n",
       "183        images.jpeg      10629              {}            10          9   \n",
       "\n",
       "                               region_shape_attributes region_attributes  \n",
       "0    {\"name\":\"rect\",\"x\":119,\"y\":65,\"width\":69,\"heig...                {}  \n",
       "1    {\"name\":\"rect\",\"x\":2,\"y\":69,\"width\":66,\"height...                {}  \n",
       "2    {\"name\":\"rect\",\"x\":197,\"y\":44,\"width\":63,\"heig...                {}  \n",
       "3    {\"name\":\"rect\",\"x\":67,\"y\":20,\"width\":51,\"heigh...                {}  \n",
       "4    {\"name\":\"rect\",\"x\":139,\"y\":91,\"width\":27,\"heig...                {}  \n",
       "..                                                 ...               ...  \n",
       "179  {\"name\":\"rect\",\"x\":44,\"y\":23,\"width\":36,\"heigh...                {}  \n",
       "180  {\"name\":\"rect\",\"x\":274,\"y\":8,\"width\":28,\"heigh...                {}  \n",
       "181  {\"name\":\"rect\",\"x\":132,\"y\":72,\"width\":60,\"heig...                {}  \n",
       "182  {\"name\":\"rect\",\"x\":130,\"y\":21,\"width\":36,\"heig...                {}  \n",
       "183  {\"name\":\"rect\",\"x\":24,\"y\":1,\"width\":18,\"height...                {}  \n",
       "\n",
       "[184 rows x 7 columns]"
      ]
     },
     "execution_count": 58,
     "metadata": {},
     "output_type": "execute_result"
    }
   ],
   "source": [
    "all_boxes"
   ]
  },
  {
   "cell_type": "markdown",
   "metadata": {},
   "source": [
    "# Loading images directly as pixel values csv"
   ]
  },
  {
   "cell_type": "code",
   "execution_count": 37,
   "metadata": {
    "scrolled": true
   },
   "outputs": [
    {
     "name": "stderr",
     "output_type": "stream",
     "text": [
      " 15%|█▌        | 46/297 [00:00<00:00, 453.70it/s]"
     ]
    },
    {
     "name": "stdout",
     "output_type": "stream",
     "text": [
      "/Users/betterhalf/Desktop/projects/motorcyle_helmet_detection/data/helmet_classification/dataset/e2-helmet\n"
     ]
    },
    {
     "name": "stderr",
     "output_type": "stream",
     "text": [
      "100%|██████████| 297/297 [00:00<00:00, 448.16it/s]\n",
      "  8%|▊         | 36/427 [00:00<00:01, 355.96it/s]"
     ]
    },
    {
     "name": "stdout",
     "output_type": "stream",
     "text": [
      "/Users/betterhalf/Desktop/projects/motorcyle_helmet_detection/data/helmet_classification/dataset/dataturks/dataturk-open_head\n"
     ]
    },
    {
     "name": "stderr",
     "output_type": "stream",
     "text": [
      "100%|██████████| 427/427 [00:01<00:00, 355.46it/s]\n",
      "  4%|▍         | 35/896 [00:00<00:02, 344.11it/s]"
     ]
    },
    {
     "name": "stdout",
     "output_type": "stream",
     "text": [
      "/Users/betterhalf/Desktop/projects/motorcyle_helmet_detection/data/helmet_classification/dataset/dataturks/dataturk-helmet\n"
     ]
    },
    {
     "name": "stderr",
     "output_type": "stream",
     "text": [
      "100%|██████████| 896/896 [00:02<00:00, 319.27it/s]\n",
      " 24%|██▍       | 44/185 [00:00<00:00, 431.08it/s]"
     ]
    },
    {
     "name": "stdout",
     "output_type": "stream",
     "text": [
      "/Users/betterhalf/Desktop/projects/motorcyle_helmet_detection/data/helmet_classification/dataset/crop-cap\n"
     ]
    },
    {
     "name": "stderr",
     "output_type": "stream",
     "text": [
      "100%|██████████| 185/185 [00:00<00:00, 437.65it/s]\n",
      " 16%|█▌        | 48/306 [00:00<00:00, 471.18it/s]"
     ]
    },
    {
     "name": "stdout",
     "output_type": "stream",
     "text": [
      "/Users/betterhalf/Desktop/projects/motorcyle_helmet_detection/data/helmet_classification/dataset/e3-open_head\n"
     ]
    },
    {
     "name": "stderr",
     "output_type": "stream",
     "text": [
      "100%|██████████| 306/306 [00:00<00:00, 453.84it/s]\n",
      " 28%|██▊       | 44/160 [00:00<00:00, 431.04it/s]"
     ]
    },
    {
     "name": "stdout",
     "output_type": "stream",
     "text": [
      "/Users/betterhalf/Desktop/projects/motorcyle_helmet_detection/data/helmet_classification/dataset/crop-bald\n"
     ]
    },
    {
     "name": "stderr",
     "output_type": "stream",
     "text": [
      "100%|██████████| 160/160 [00:00<00:00, 427.53it/s]\n",
      " 96%|█████████▌| 87/91 [00:00<00:00, 436.10it/s]"
     ]
    },
    {
     "name": "stdout",
     "output_type": "stream",
     "text": [
      "/Users/betterhalf/Desktop/projects/motorcyle_helmet_detection/data/helmet_classification/dataset/crop-turban\n"
     ]
    },
    {
     "name": "stderr",
     "output_type": "stream",
     "text": [
      "100%|██████████| 91/91 [00:00<00:00, 426.44it/s]\n",
      " 14%|█▍        | 45/318 [00:00<00:00, 441.20it/s]"
     ]
    },
    {
     "name": "stdout",
     "output_type": "stream",
     "text": [
      "/Users/betterhalf/Desktop/projects/motorcyle_helmet_detection/data/helmet_classification/dataset/google-helmet\n"
     ]
    },
    {
     "name": "stderr",
     "output_type": "stream",
     "text": [
      "100%|██████████| 318/318 [00:00<00:00, 428.30it/s]\n",
      " 42%|████▏     | 46/109 [00:00<00:00, 453.94it/s]"
     ]
    },
    {
     "name": "stdout",
     "output_type": "stream",
     "text": [
      "/Users/betterhalf/Desktop/projects/motorcyle_helmet_detection/data/helmet_classification/dataset/crop-burkha\n"
     ]
    },
    {
     "name": "stderr",
     "output_type": "stream",
     "text": [
      "100%|██████████| 109/109 [00:00<00:00, 442.58it/s]\n",
      " 14%|█▍        | 45/313 [00:00<00:00, 448.11it/s]"
     ]
    },
    {
     "name": "stdout",
     "output_type": "stream",
     "text": [
      "/Users/betterhalf/Desktop/projects/motorcyle_helmet_detection/data/helmet_classification/dataset/e1-open_head\n"
     ]
    },
    {
     "name": "stderr",
     "output_type": "stream",
     "text": [
      "100%|██████████| 313/313 [00:00<00:00, 445.00it/s]\n"
     ]
    }
   ],
   "source": [
    "path = '/Users/betterhalf/Desktop/projects/motorcyle_helmet_detection/data/helmet_classification/dataset'\n",
    "tot_hog=[]\n",
    "tot_label=[]\n",
    "df = []\n",
    "df1 = []\n",
    "for subdir, dirs, files in os.walk(path):\n",
    "    try:\n",
    "        label =subdir.split('/')[-1].split('-')[1]\n",
    "        print(subdir)\n",
    "    except:\n",
    "        continue\n",
    "    for file in tqdm(files):\n",
    "        #print(os.path.join(path,label, file))\n",
    "    \n",
    "        #print(file)\n",
    "        input_path = os.path.join(subdir, file)\n",
    "#         print(input_path)\n",
    "        img = cv2.imread(input_path)\n",
    "        #print (img)\n",
    "        if img is None:\n",
    "            continue\n",
    "        img = cv2.resize(img,(100,100))\n",
    "        img = cv2.cvtColor(img, cv2.COLOR_RGB2GRAY)\n",
    "#         d = cv2.HOGDescriptor()\n",
    "#         hog = d.compute(img)\n",
    "#         transpose_hog= hog.transpose()\n",
    "#         print(transpose_hog)\n",
    "#         df = pd.DataFrame(transpose_hog)\n",
    "        img = local_binary_pattern(img, 8, 1)\n",
    "        hist, _ = np.histogram(img, bins=np.arange(2**8 + 1), density=True)\n",
    "        df.append(list(hist))\n",
    "        df1.append(list([label]))\n",
    "df = pd.DataFrame(df)\n",
    "df1  = pd.DataFrame(df1)"
   ]
  },
  {
   "cell_type": "code",
   "execution_count": 38,
   "metadata": {},
   "outputs": [],
   "source": [
    "df.to_csv('hog_lbph.csv', mode ='a',header = False)\n",
    "df1.to_csv('label_lbph.csv',mode = 'a', header = False)"
   ]
  },
  {
   "cell_type": "code",
   "execution_count": 56,
   "metadata": {},
   "outputs": [],
   "source": [
    "n = pd.DataFrame(pd.read_csv(\"hog.csv\").values[:,1:])"
   ]
  },
  {
   "cell_type": "code",
   "execution_count": 57,
   "metadata": {},
   "outputs": [],
   "source": [
    "n1 = pd.Series(pd.read_csv(\"label.csv\").values[:,-1])"
   ]
  },
  {
   "cell_type": "code",
   "execution_count": 41,
   "metadata": {},
   "outputs": [
    {
     "data": {
      "text/html": [
       "<div>\n",
       "<style scoped>\n",
       "    .dataframe tbody tr th:only-of-type {\n",
       "        vertical-align: middle;\n",
       "    }\n",
       "\n",
       "    .dataframe tbody tr th {\n",
       "        vertical-align: top;\n",
       "    }\n",
       "\n",
       "    .dataframe thead th {\n",
       "        text-align: right;\n",
       "    }\n",
       "</style>\n",
       "<table border=\"1\" class=\"dataframe\">\n",
       "  <thead>\n",
       "    <tr style=\"text-align: right;\">\n",
       "      <th></th>\n",
       "      <th>0</th>\n",
       "      <th>1</th>\n",
       "      <th>2</th>\n",
       "      <th>3</th>\n",
       "      <th>4</th>\n",
       "      <th>5</th>\n",
       "      <th>6</th>\n",
       "      <th>7</th>\n",
       "      <th>8</th>\n",
       "      <th>9</th>\n",
       "      <th>...</th>\n",
       "      <th>247</th>\n",
       "      <th>248</th>\n",
       "      <th>249</th>\n",
       "      <th>250</th>\n",
       "      <th>251</th>\n",
       "      <th>252</th>\n",
       "      <th>253</th>\n",
       "      <th>254</th>\n",
       "      <th>255</th>\n",
       "      <th>target</th>\n",
       "    </tr>\n",
       "  </thead>\n",
       "  <tbody>\n",
       "    <tr>\n",
       "      <th>0</th>\n",
       "      <td>0.0037</td>\n",
       "      <td>0.0042</td>\n",
       "      <td>0.0</td>\n",
       "      <td>0.0012</td>\n",
       "      <td>0.0054</td>\n",
       "      <td>0.0004</td>\n",
       "      <td>0.0018</td>\n",
       "      <td>0.0322</td>\n",
       "      <td>0.0000</td>\n",
       "      <td>0.0000</td>\n",
       "      <td>...</td>\n",
       "      <td>0.0095</td>\n",
       "      <td>0.0095</td>\n",
       "      <td>0.0057</td>\n",
       "      <td>0.0</td>\n",
       "      <td>0.0035</td>\n",
       "      <td>0.0049</td>\n",
       "      <td>0.0050</td>\n",
       "      <td>0.0026</td>\n",
       "      <td>0.1794</td>\n",
       "      <td>helmet</td>\n",
       "    </tr>\n",
       "    <tr>\n",
       "      <th>1</th>\n",
       "      <td>0.0030</td>\n",
       "      <td>0.0048</td>\n",
       "      <td>0.0</td>\n",
       "      <td>0.0023</td>\n",
       "      <td>0.0069</td>\n",
       "      <td>0.0002</td>\n",
       "      <td>0.0028</td>\n",
       "      <td>0.0336</td>\n",
       "      <td>0.0002</td>\n",
       "      <td>0.0000</td>\n",
       "      <td>...</td>\n",
       "      <td>0.0013</td>\n",
       "      <td>0.0204</td>\n",
       "      <td>0.0060</td>\n",
       "      <td>0.0</td>\n",
       "      <td>0.0055</td>\n",
       "      <td>0.0035</td>\n",
       "      <td>0.0009</td>\n",
       "      <td>0.0040</td>\n",
       "      <td>0.0183</td>\n",
       "      <td>helmet</td>\n",
       "    </tr>\n",
       "    <tr>\n",
       "      <th>2</th>\n",
       "      <td>0.0010</td>\n",
       "      <td>0.0013</td>\n",
       "      <td>0.0</td>\n",
       "      <td>0.0003</td>\n",
       "      <td>0.0041</td>\n",
       "      <td>0.0000</td>\n",
       "      <td>0.0004</td>\n",
       "      <td>0.0203</td>\n",
       "      <td>0.0000</td>\n",
       "      <td>0.0000</td>\n",
       "      <td>...</td>\n",
       "      <td>0.0023</td>\n",
       "      <td>0.0222</td>\n",
       "      <td>0.0049</td>\n",
       "      <td>0.0</td>\n",
       "      <td>0.0026</td>\n",
       "      <td>0.0040</td>\n",
       "      <td>0.0039</td>\n",
       "      <td>0.0008</td>\n",
       "      <td>0.0336</td>\n",
       "      <td>helmet</td>\n",
       "    </tr>\n",
       "    <tr>\n",
       "      <th>3</th>\n",
       "      <td>0.0038</td>\n",
       "      <td>0.0054</td>\n",
       "      <td>0.0</td>\n",
       "      <td>0.0027</td>\n",
       "      <td>0.0040</td>\n",
       "      <td>0.0004</td>\n",
       "      <td>0.0016</td>\n",
       "      <td>0.0304</td>\n",
       "      <td>0.0000</td>\n",
       "      <td>0.0000</td>\n",
       "      <td>...</td>\n",
       "      <td>0.0015</td>\n",
       "      <td>0.0219</td>\n",
       "      <td>0.0047</td>\n",
       "      <td>0.0</td>\n",
       "      <td>0.0040</td>\n",
       "      <td>0.0079</td>\n",
       "      <td>0.0020</td>\n",
       "      <td>0.0064</td>\n",
       "      <td>0.0227</td>\n",
       "      <td>helmet</td>\n",
       "    </tr>\n",
       "    <tr>\n",
       "      <th>4</th>\n",
       "      <td>0.0018</td>\n",
       "      <td>0.0022</td>\n",
       "      <td>0.0</td>\n",
       "      <td>0.0015</td>\n",
       "      <td>0.0043</td>\n",
       "      <td>0.0000</td>\n",
       "      <td>0.0011</td>\n",
       "      <td>0.0315</td>\n",
       "      <td>0.0000</td>\n",
       "      <td>0.0001</td>\n",
       "      <td>...</td>\n",
       "      <td>0.0062</td>\n",
       "      <td>0.0118</td>\n",
       "      <td>0.0053</td>\n",
       "      <td>0.0</td>\n",
       "      <td>0.0022</td>\n",
       "      <td>0.0054</td>\n",
       "      <td>0.0060</td>\n",
       "      <td>0.0018</td>\n",
       "      <td>0.0561</td>\n",
       "      <td>helmet</td>\n",
       "    </tr>\n",
       "    <tr>\n",
       "      <th>...</th>\n",
       "      <td>...</td>\n",
       "      <td>...</td>\n",
       "      <td>...</td>\n",
       "      <td>...</td>\n",
       "      <td>...</td>\n",
       "      <td>...</td>\n",
       "      <td>...</td>\n",
       "      <td>...</td>\n",
       "      <td>...</td>\n",
       "      <td>...</td>\n",
       "      <td>...</td>\n",
       "      <td>...</td>\n",
       "      <td>...</td>\n",
       "      <td>...</td>\n",
       "      <td>...</td>\n",
       "      <td>...</td>\n",
       "      <td>...</td>\n",
       "      <td>...</td>\n",
       "      <td>...</td>\n",
       "      <td>...</td>\n",
       "      <td>...</td>\n",
       "    </tr>\n",
       "    <tr>\n",
       "      <th>3093</th>\n",
       "      <td>0.0028</td>\n",
       "      <td>0.0063</td>\n",
       "      <td>0.0</td>\n",
       "      <td>0.0026</td>\n",
       "      <td>0.0041</td>\n",
       "      <td>0.0002</td>\n",
       "      <td>0.0019</td>\n",
       "      <td>0.0238</td>\n",
       "      <td>0.0000</td>\n",
       "      <td>0.0000</td>\n",
       "      <td>...</td>\n",
       "      <td>0.0020</td>\n",
       "      <td>0.0175</td>\n",
       "      <td>0.0060</td>\n",
       "      <td>0.0</td>\n",
       "      <td>0.0041</td>\n",
       "      <td>0.0063</td>\n",
       "      <td>0.0020</td>\n",
       "      <td>0.0051</td>\n",
       "      <td>0.0225</td>\n",
       "      <td>open_head</td>\n",
       "    </tr>\n",
       "    <tr>\n",
       "      <th>3094</th>\n",
       "      <td>0.0041</td>\n",
       "      <td>0.0069</td>\n",
       "      <td>0.0</td>\n",
       "      <td>0.0019</td>\n",
       "      <td>0.0029</td>\n",
       "      <td>0.0001</td>\n",
       "      <td>0.0025</td>\n",
       "      <td>0.0288</td>\n",
       "      <td>0.0000</td>\n",
       "      <td>0.0000</td>\n",
       "      <td>...</td>\n",
       "      <td>0.0072</td>\n",
       "      <td>0.0116</td>\n",
       "      <td>0.0045</td>\n",
       "      <td>0.0</td>\n",
       "      <td>0.0020</td>\n",
       "      <td>0.0059</td>\n",
       "      <td>0.0055</td>\n",
       "      <td>0.0045</td>\n",
       "      <td>0.0785</td>\n",
       "      <td>open_head</td>\n",
       "    </tr>\n",
       "    <tr>\n",
       "      <th>3095</th>\n",
       "      <td>0.0050</td>\n",
       "      <td>0.0048</td>\n",
       "      <td>0.0</td>\n",
       "      <td>0.0031</td>\n",
       "      <td>0.0096</td>\n",
       "      <td>0.0003</td>\n",
       "      <td>0.0027</td>\n",
       "      <td>0.0279</td>\n",
       "      <td>0.0000</td>\n",
       "      <td>0.0000</td>\n",
       "      <td>...</td>\n",
       "      <td>0.0089</td>\n",
       "      <td>0.0136</td>\n",
       "      <td>0.0052</td>\n",
       "      <td>0.0</td>\n",
       "      <td>0.0061</td>\n",
       "      <td>0.0034</td>\n",
       "      <td>0.0050</td>\n",
       "      <td>0.0030</td>\n",
       "      <td>0.1268</td>\n",
       "      <td>open_head</td>\n",
       "    </tr>\n",
       "    <tr>\n",
       "      <th>3096</th>\n",
       "      <td>0.0023</td>\n",
       "      <td>0.0085</td>\n",
       "      <td>0.0</td>\n",
       "      <td>0.0023</td>\n",
       "      <td>0.0041</td>\n",
       "      <td>0.0004</td>\n",
       "      <td>0.0015</td>\n",
       "      <td>0.0302</td>\n",
       "      <td>0.0000</td>\n",
       "      <td>0.0002</td>\n",
       "      <td>...</td>\n",
       "      <td>0.0022</td>\n",
       "      <td>0.0164</td>\n",
       "      <td>0.0041</td>\n",
       "      <td>0.0</td>\n",
       "      <td>0.0031</td>\n",
       "      <td>0.0065</td>\n",
       "      <td>0.0040</td>\n",
       "      <td>0.0090</td>\n",
       "      <td>0.0286</td>\n",
       "      <td>open_head</td>\n",
       "    </tr>\n",
       "    <tr>\n",
       "      <th>3097</th>\n",
       "      <td>0.0015</td>\n",
       "      <td>0.0034</td>\n",
       "      <td>0.0</td>\n",
       "      <td>0.0012</td>\n",
       "      <td>0.0044</td>\n",
       "      <td>0.0001</td>\n",
       "      <td>0.0036</td>\n",
       "      <td>0.0232</td>\n",
       "      <td>0.0000</td>\n",
       "      <td>0.0000</td>\n",
       "      <td>...</td>\n",
       "      <td>0.0083</td>\n",
       "      <td>0.0145</td>\n",
       "      <td>0.0082</td>\n",
       "      <td>0.0</td>\n",
       "      <td>0.0047</td>\n",
       "      <td>0.0066</td>\n",
       "      <td>0.0083</td>\n",
       "      <td>0.0035</td>\n",
       "      <td>0.0556</td>\n",
       "      <td>open_head</td>\n",
       "    </tr>\n",
       "  </tbody>\n",
       "</table>\n",
       "<p>3096 rows × 257 columns</p>\n",
       "</div>"
      ],
      "text/plain": [
       "           0       1    2       3       4       5       6       7       8  \\\n",
       "0     0.0037  0.0042  0.0  0.0012  0.0054  0.0004  0.0018  0.0322  0.0000   \n",
       "1     0.0030  0.0048  0.0  0.0023  0.0069  0.0002  0.0028  0.0336  0.0002   \n",
       "2     0.0010  0.0013  0.0  0.0003  0.0041  0.0000  0.0004  0.0203  0.0000   \n",
       "3     0.0038  0.0054  0.0  0.0027  0.0040  0.0004  0.0016  0.0304  0.0000   \n",
       "4     0.0018  0.0022  0.0  0.0015  0.0043  0.0000  0.0011  0.0315  0.0000   \n",
       "...      ...     ...  ...     ...     ...     ...     ...     ...     ...   \n",
       "3093  0.0028  0.0063  0.0  0.0026  0.0041  0.0002  0.0019  0.0238  0.0000   \n",
       "3094  0.0041  0.0069  0.0  0.0019  0.0029  0.0001  0.0025  0.0288  0.0000   \n",
       "3095  0.0050  0.0048  0.0  0.0031  0.0096  0.0003  0.0027  0.0279  0.0000   \n",
       "3096  0.0023  0.0085  0.0  0.0023  0.0041  0.0004  0.0015  0.0302  0.0000   \n",
       "3097  0.0015  0.0034  0.0  0.0012  0.0044  0.0001  0.0036  0.0232  0.0000   \n",
       "\n",
       "           9  ...     247     248     249  250     251     252     253  \\\n",
       "0     0.0000  ...  0.0095  0.0095  0.0057  0.0  0.0035  0.0049  0.0050   \n",
       "1     0.0000  ...  0.0013  0.0204  0.0060  0.0  0.0055  0.0035  0.0009   \n",
       "2     0.0000  ...  0.0023  0.0222  0.0049  0.0  0.0026  0.0040  0.0039   \n",
       "3     0.0000  ...  0.0015  0.0219  0.0047  0.0  0.0040  0.0079  0.0020   \n",
       "4     0.0001  ...  0.0062  0.0118  0.0053  0.0  0.0022  0.0054  0.0060   \n",
       "...      ...  ...     ...     ...     ...  ...     ...     ...     ...   \n",
       "3093  0.0000  ...  0.0020  0.0175  0.0060  0.0  0.0041  0.0063  0.0020   \n",
       "3094  0.0000  ...  0.0072  0.0116  0.0045  0.0  0.0020  0.0059  0.0055   \n",
       "3095  0.0000  ...  0.0089  0.0136  0.0052  0.0  0.0061  0.0034  0.0050   \n",
       "3096  0.0002  ...  0.0022  0.0164  0.0041  0.0  0.0031  0.0065  0.0040   \n",
       "3097  0.0000  ...  0.0083  0.0145  0.0082  0.0  0.0047  0.0066  0.0083   \n",
       "\n",
       "         254     255     target  \n",
       "0     0.0026  0.1794     helmet  \n",
       "1     0.0040  0.0183     helmet  \n",
       "2     0.0008  0.0336     helmet  \n",
       "3     0.0064  0.0227     helmet  \n",
       "4     0.0018  0.0561     helmet  \n",
       "...      ...     ...        ...  \n",
       "3093  0.0051  0.0225  open_head  \n",
       "3094  0.0045  0.0785  open_head  \n",
       "3095  0.0030  0.1268  open_head  \n",
       "3096  0.0090  0.0286  open_head  \n",
       "3097  0.0035  0.0556  open_head  \n",
       "\n",
       "[3096 rows x 257 columns]"
      ]
     },
     "execution_count": 41,
     "metadata": {},
     "output_type": "execute_result"
    }
   ],
   "source": [
    "n = df\n",
    "del df\n",
    "n['target'] = df1[0]\n",
    "n = n.drop_duplicates()\n",
    "n"
   ]
  },
  {
   "cell_type": "code",
   "execution_count": 10,
   "metadata": {},
   "outputs": [
    {
     "data": {
      "text/plain": [
       "27"
      ]
     },
     "execution_count": 10,
     "metadata": {},
     "output_type": "execute_result"
    }
   ],
   "source": [
    "img = cv2.imread(\"/Users/betterhalf/Desktop/projects/motorcyle_helmet_detection/helmet_classification/images_for_manual_testing/no-helmet.jpeg\")\n",
    "img = color.rgb2gray(img)\n",
    "cv2.imshow('lbp',patterns)\n",
    "cv2.waitKey()"
   ]
  },
  {
   "cell_type": "markdown",
   "metadata": {},
   "source": [
    "# Pickle dumper"
   ]
  },
  {
   "cell_type": "code",
   "execution_count": 89,
   "metadata": {},
   "outputs": [],
   "source": [
    "import pickle\n",
    "with open(\"svm_model.pickle\",'wb') as handle:\n",
    "    pickle.dump(a,handle)"
   ]
  },
  {
   "cell_type": "code",
   "execution_count": null,
   "metadata": {},
   "outputs": [],
   "source": []
  }
 ],
 "metadata": {
  "kernelspec": {
   "display_name": "Python 3",
   "language": "python",
   "name": "python3"
  },
  "language_info": {
   "codemirror_mode": {
    "name": "ipython",
    "version": 3
   },
   "file_extension": ".py",
   "mimetype": "text/x-python",
   "name": "python",
   "nbconvert_exporter": "python",
   "pygments_lexer": "ipython3",
   "version": "3.7.6"
  }
 },
 "nbformat": 4,
 "nbformat_minor": 4
}
